{
 "cells": [
  {
   "cell_type": "code",
   "execution_count": null,
   "id": "970feff3-3186-4474-b141-8ff446b76db8",
   "metadata": {},
   "outputs": [],
   "source": [
    "import pandas as pd\n",
    "import shap\n",
    "from sklearn.ensemble import RandomForestClassifier\n",
    "from pycaret.classification import *\n",
    "import numpy as np\n",
    "from sklearn.model_selection import cross_val_score, RepeatedKFold, StratifiedKFold, train_test_split, GridSearchCV, RandomizedSearchCV\n",
    "from sklearn.feature_selection import SelectKBest\n",
    "from sklearn.feature_selection import f_classif\n",
    "from tsfresh import extract_features, select_features\n",
    "import matplotlib.pyplot as plt\n",
    "from umap import UMAP\n",
    "import umap.plot\n",
    "from sklearn.cluster import DBSCAN, KMeans\n",
    "from sklearn.metrics import accuracy_score, silhouette_score\n",
    "from sklearn.preprocessing import label_binarize\n",
    "from scipy.stats import chi2_contingency, shapiro, f_oneway, norm, ttest_ind\n",
    "import warnings\n",
    "from sklearn.linear_model import LinearRegression\n",
    "import seaborn as sns\n",
    "from matplotlib.colors import LogNorm\n",
    "from statsmodels.stats.multicomp import pairwise_tukeyhsd"
   ]
  },
  {
   "cell_type": "code",
   "execution_count": null,
   "id": "5a860ceb-d31f-4bfe-9af0-d247e2fed824",
   "metadata": {},
   "outputs": [],
   "source": [
    "prs_matrix = pd.read_csv('FinalData/all_CG_PRS_SNPs.raw', sep=' ') # prs snps (0,1,2)\n",
    "prs_prof = pd.read_csv('../PRS_data/Cooccur_prs/autism_CG_PRS_only.profile', delim_whitespace=True) # actual prs scores\n",
    "prs_prof['ZSCORE'] = (prs_prof['SCORE']-np.mean(prs_prof['SCORE']))/np.std(prs_prof['SCORE'])"
   ]
  },
  {
   "cell_type": "code",
   "execution_count": null,
   "id": "8af1b02a-e624-4e20-8746-06c9786beddb",
   "metadata": {},
   "outputs": [],
   "source": [
    "# prepare the prs matrix for random forest, same as done for prediction but this time use whole matrix (i.e. no training split)\n",
    "prs_CG = prs_matrix.drop(columns=['FID', 'PAT', 'MAT', 'PHENOTYPE', 'SEX'])\n",
    "prs_CG = prs_CG.set_index(['IID'])\n",
    "\n",
    "pheno_CG = prs_matrix['PHENOTYPE']\n",
    "sex_CG = prs_matrix['SEX']\n",
    "val = []\n",
    "for i in range(len(pheno_CG)):\n",
    "    if pheno_CG[i] != 1 and pheno_CG[i] != 2:\n",
    "        val.append(i)\n",
    "pheno_CG = pheno_CG.drop(val)\n",
    "sex_CG = sex_CG.drop(val)\n",
    "prs_prof = prs_prof.drop(val)\n",
    "prs_CG = prs_CG.drop(prs_CG.index[val])\n",
    "pheno_CG = [y-1 for y in pheno_CG]\n",
    "prs_CG = prs_CG.fillna(0)\n",
    "all_matrix_CG = prs_CG\n",
    "\n",
    "# fit a random forest and get shap values\n",
    "clf = RandomForestClassifier(max_depth=10, random_state=10)\n",
    "clf.fit(all_matrix_CG, pheno_CG)\n",
    "explainer = shap.Explainer(clf)\n",
    "shap_values_CG = explainer(all_matrix_CG)\n",
    "# how did it predict?\n",
    "pred_CG = clf.predict(all_matrix_CG)\n",
    "accuracy_score(pred_CG,pheno_CG)"
   ]
  },
  {
   "cell_type": "code",
   "execution_count": null,
   "id": "014cda52-781d-4a59-a962-238b75600d0d",
   "metadata": {},
   "outputs": [],
   "source": [
    "# which snps contribute most to prediction?\n",
    "shap.summary_plot(shap_values_CG[:,:,1], all_matrix_CG, plot_type='bar')"
   ]
  },
  {
   "cell_type": "code",
   "execution_count": null,
   "id": "3c1e89b1-7235-4059-917f-8823e2493c53",
   "metadata": {},
   "outputs": [],
   "source": [
    "# create umap using the shap values\n",
    "with warnings.catch_warnings():\n",
    "    warnings.simplefilter(\"ignore\", UserWarning)\n",
    "    s_2d_CG = UMAP(n_neighbors=100, min_dist=0.0, random_state=10).fit_transform(shap_values_CG.values[:, :, 1])\n",
    "\n",
    "# plot umap projections\n",
    "plt.figure(figsize=(8, 6))\n",
    "with warnings.catch_warnings():\n",
    "    warnings.simplefilter(\"ignore\", UserWarning)\n",
    "    scatter_CG_neuro = plt.scatter(s_2d_CG[:,0][np.array(pheno_CG)==0], s_2d_CG[:,1][np.array(pheno_CG)==0], label='Neurotypical', c='tab:blue', s=10, alpha=0.5)\n",
    "    scatter_CG_autistic = plt.scatter(s_2d_CG[:,0][np.array(pheno_CG)==1], s_2d_CG[:,1][np.array(pheno_CG)==1], label='Autistic', c='tab:red', cmap='coolwarm', s=10, alpha=0.5)\n",
    "plt.legend()\n",
    "plt.title('UMAP Projection of SHAP Values')\n",
    "plt.xlabel('UMAP 1')\n",
    "plt.ylabel('UMAP 2')\n",
    "plt.show()"
   ]
  },
  {
   "cell_type": "code",
   "execution_count": null,
   "id": "cb4b9bd9-99bc-4490-a2f5-6448b1246060",
   "metadata": {},
   "outputs": [],
   "source": [
    "# fit kmeans clustering with 6 clusters\n",
    "kmeans = KMeans(n_clusters=6, random_state=10)\n",
    "labels_CG = kmeans.fit_predict(s_2d_CG)\n",
    "colours = ['#E69F00', '#56B4E9', '#009E73', '#F0E442', '#0072B2', '#D55E00']\n",
    "\n",
    "plt.figure(figsize=(8, 6))\n",
    "for cluster in range(6):\n",
    "    plt.scatter(\n",
    "        s_2d_CG[labels_CG == cluster, 0],   # cluster x coords\n",
    "        s_2d_CG[labels_CG == cluster, 1],   # cluster y coords\n",
    "        color=colours[cluster],\n",
    "        label=f'Cluster {cluster}',\n",
    "        s=10,\n",
    "        alpha=0.5\n",
    "    )\n",
    "\n",
    "# Add legend/labels\n",
    "plt.legend(title=\"Clusters\")\n",
    "plt.title('UMAP Projection of SHAP Values')\n",
    "plt.xlabel('UMAP 1')\n",
    "plt.ylabel('UMAP 2')\n",
    "plt.savefig('UMAP_clusters.png')\n",
    "plt.show()"
   ]
  },
  {
   "cell_type": "code",
   "execution_count": null,
   "id": "730d09d7-335d-4973-9275-0e586b3cf4f8",
   "metadata": {},
   "outputs": [],
   "source": [
    "# what is the breakdown of each cluster?\n",
    "distribution = pd.DataFrame([labels_CG,pheno_CG,sex_CG, prs_prof['SCORE'], prs_prof['ZSCORE']]).T # also including the actual prses in this df\n",
    "distribution = distribution.rename(columns={0:'cluster',1:'phenotype',2:'sex',3:'prs',4:'zscore'})\n",
    "\n",
    "distribution['group'] = distribution['sex'].astype(str) + \",\" + distribution['phenotype'].astype(str)\n",
    "label_map = {\n",
    "    '1.0,0.0': 'male neurotypical',\n",
    "    '1.0,1.0': 'male autistic',\n",
    "    '2.0,0.0': 'female neurotypical',\n",
    "    '2.0,1.0': 'female autistic'\n",
    "}\n",
    "distribution['group'] = distribution['group'].map(label_map)\n",
    "\n",
    "grouped = distribution.groupby(['cluster', 'group']).size().unstack(fill_value=0)\n",
    "\n",
    "custom_colors = ['#b35806', '#fdb863', '#542788', '#b2abd2'] \n",
    "group_labels = ['male neurotypical', 'male autistic', 'female neurotypical', 'female autistic']\n",
    "\n",
    "grouped[group_labels].plot(kind='bar', stacked=True, figsize=(10,6), color=custom_colors)\n",
    "\n",
    "plt.xlabel('Cluster')\n",
    "plt.ylabel('Count')\n",
    "plt.title('Sex-Phenotype Combinations by Cluster')\n",
    "plt.legend(title='Category', bbox_to_anchor=(1.05, 1), loc='upper left')\n",
    "plt.tight_layout()\n",
    "plt.show()"
   ]
  },
  {
   "cell_type": "code",
   "execution_count": null,
   "id": "ab6bd26e-a393-4d1b-b18c-f7395367c323",
   "metadata": {},
   "outputs": [],
   "source": [
    "# plot prs z-scores (calculated using plink) for each cluster\n",
    "sns.boxplot(x='cluster', y='zscore', data=distribution)\n",
    "plt.title('Autism PRS Distribution by Cluster')\n",
    "plt.show()"
   ]
  },
  {
   "cell_type": "code",
   "execution_count": null,
   "id": "ef2bceea-ea35-4132-a98e-e6689f156c17",
   "metadata": {},
   "outputs": [],
   "source": [
    "## What about the distribution of all autistic vs all neurotypical?\n",
    "plt.figure(figsize=(4,6))\n",
    "sns.boxplot(x='phenotype', y='zscore', data=distribution)\n",
    "plt.title('Autism PRS Distribution')\n",
    "plt.savefig('autism_prs_distribution.png')\n",
    "plt.show()\n",
    "_, pval = ttest_ind(distribution[distribution['phenotype']==0]['zscore'], distribution[distribution['phenotype']==1]['zscore'])"
   ]
  },
  {
   "cell_type": "code",
   "execution_count": null,
   "id": "a0b3bb6e-7107-4fd8-a883-01bfbbfd0761",
   "metadata": {},
   "outputs": [],
   "source": [
    "# compare the prses between clusters\n",
    "tukey = pairwise_tukeyhsd(endog=distribution['zscore'],\n",
    "                          groups=distribution['cluster'], \n",
    "                          alpha=0.05)\n",
    "\n",
    "print(tukey)"
   ]
  },
  {
   "cell_type": "code",
   "execution_count": null,
   "id": "5b417262-56cd-4506-98f9-4d784089bbe0",
   "metadata": {},
   "outputs": [],
   "source": [
    "def proportions_ztest(x2, n2): # making my own vers as package wasn't importing from scipy.stats\n",
    "    p1 = aut_fems / aut_sum\n",
    "    p2 = x2 / n2\n",
    "    p_pool = (aut_fems + x2) / (aut_sum + n2)\n",
    "    se = np.sqrt(p_pool * (1 - p_pool) * (1/aut_sum + 1/n2))\n",
    "    z_stat = (p1 - p2) / se\n",
    "    p_value = 2 * (1 - norm.cdf(abs(z_stat)))\n",
    "    return(p_value)"
   ]
  },
  {
   "cell_type": "code",
   "execution_count": null,
   "id": "2ed6f75a-87ca-4a07-8098-206648f1802c",
   "metadata": {},
   "outputs": [],
   "source": [
    "# Checking male to female ratio in 0,3,5. None are statistically significantly different to the overall ratio\n",
    "aut_fems = np.sum(grouped['female autistic'])\n",
    "aut_sum = aut_fems + np.sum(grouped['male autistic'])\n",
    "\n",
    "aut_fems0 = grouped.iloc[0]['female autistic']\n",
    "aut_sum0 = grouped.iloc[0]['female autistic'] + grouped.iloc[0]['male autistic']\n",
    "pval0 = proportions_ztest(aut_fems0, aut_sum0)\n",
    "print('cluster 0:', aut_fems0/aut_sum0, pval0)\n",
    "\n",
    "aut_fems3 = grouped.iloc[3]['female autistic']\n",
    "aut_sum3 = grouped.iloc[3]['female autistic'] + grouped.iloc[3]['male autistic']\n",
    "pval3 = proportions_ztest(aut_fems3, aut_sum3)\n",
    "print('cluster 3:', aut_fems0/aut_sum0, pval3)\n",
    "\n",
    "aut_fems5 = grouped.iloc[5]['female autistic']\n",
    "aut_sum5 = grouped.iloc[5]['female autistic'] + grouped.iloc[5]['male autistic']\n",
    "pval5 = proportions_ztest(aut_fems5, aut_sum5)\n",
    "print('cluster 5:', aut_fems5/aut_sum5, pval5)"
   ]
  },
  {
   "cell_type": "markdown",
   "id": "2929dc8a-b17a-4fbb-8a3d-d5e321f099b8",
   "metadata": {},
   "source": [
    "Compare each autistic cluster against all neurotypical"
   ]
  },
  {
   "cell_type": "code",
   "execution_count": null,
   "id": "88a72bbb-cad9-473c-9a0f-070cf2f93cd1",
   "metadata": {},
   "outputs": [],
   "source": [
    "def predict_autistic_cluster(matrix, labels):\n",
    "    clf_cluster=RandomForestClassifier(random_state=10)\n",
    "    clf_cluster.fit(matrix, labels)\n",
    "    cluster_pred = clf_cluster.predict(matrix)\n",
    "    print(accuracy_score(cluster_pred, labels))\n",
    "    explainer = shap.TreeExplainer(clf_cluster)\n",
    "    shap_values_cluster = explainer(matrix).values\n",
    "    shap_interaction = explainer.shap_interaction_values(matrix)\n",
    "    return(shap_values_cluster, shap_interaction)"
   ]
  },
  {
   "cell_type": "code",
   "execution_count": null,
   "id": "1ad8a496-aeeb-441b-a8b5-703c7c9db0b4",
   "metadata": {},
   "outputs": [],
   "source": [
    "# ignore clsuters 3 and 5\n",
    "mask0 = (labels_CG != 3) & (labels_CG != 5)\n",
    "labels0 = labels_CG[mask0]\n",
    "matrix0 = all_matrix_CG[mask0]\n",
    "# setting labels to be 1 and 0 but since I'm setting all the 0=1 and everything else=0 it req diff steps to the other two\n",
    "labels0[labels0 != 0] = -1\n",
    "labels0 = labels0+1\n",
    "shap_values_cluster0, shap_interaction_cluster0 = predict_autistic_cluster(matrix0, labels0)\n",
    "cluster0 = matrix0[labels0 == 1]\n",
    "neurotypical = matrix0[labels0 == 0]\n",
    "\n",
    "# what contributes most to cluster 0?\n",
    "shap.summary_plot(shap_values_cluster0[:,:,1], matrix0)"
   ]
  },
  {
   "cell_type": "code",
   "execution_count": null,
   "id": "739122c2-3def-44bc-9919-b1fe1be290c2",
   "metadata": {},
   "outputs": [],
   "source": [
    "def compute_signif(cluster, neurotypical):\n",
    "    pval = []\n",
    "    for col in np.array(cluster.columns):\n",
    "        contingency_table = pd.DataFrame({'Cluster': cluster[col].value_counts(),'Neurotypical': neurotypical[col].value_counts()}).fillna(0)\n",
    "        chi2, p, dof, ex = chi2_contingency(contingency_table)\n",
    "        pval.append(p)\n",
    "\n",
    "    pval_df = pd.DataFrame({'snp': cluster.columns,'p-value': pval})\n",
    "\n",
    "    pval_df['adj p-value'] = pval_df['p-value'] * len(cluster0.columns)\n",
    "    pval_df['significant'] = pval_df['adj p-value'] < 0.05\n",
    "    print(pval_df[pval_df['significant'] == True])\n",
    "    return(pval_df)\n",
    "\n",
    "def plot_distributions(df1, df2, col, aut_clust_name):\n",
    "    total_autistic = len(df1)\n",
    "    total_neurotypical = len(df2)\n",
    "    combined_df = pd.concat([df1[col].value_counts(normalize=True).sort_index().reindex([0, 1, 2]), \n",
    "                             df2[col].value_counts(normalize=True).sort_index().reindex([0, 1, 2])], axis=1)\n",
    "    combined_df.columns = [aut_clust_name, 'Neurotypical']\n",
    "    \n",
    "    ax = combined_df.plot(kind='bar', title=f'Distribution in {col}', figsize=(8,6))\n",
    "    \n",
    "    # Add count values above the bars\n",
    "    for i, p in enumerate(ax.patches):\n",
    "        height = p.get_height()\n",
    "        if i < 3:  # First three are the aut ones, second three are the neurotypical\n",
    "            count_value = height * total_autistic\n",
    "        else:\n",
    "            count_value = height * total_neurotypical\n",
    "        ax.text(p.get_x() + p.get_width() / 2., height + 0.01, f'{int(count_value)}', ha='center', va='bottom')\n",
    "\n",
    "    plt.show()"
   ]
  },
  {
   "cell_type": "code",
   "execution_count": null,
   "id": "d617845e-b408-42fd-a517-8f0cb86ff9af",
   "metadata": {},
   "outputs": [],
   "source": [
    "# find which snps are significantly diff between cluster 0 and all neurotypicals\n",
    "pval_df_cluster0 = compute_signif(cluster0, neurotypical)\n",
    "# plot the distributions (0,1,2) of that snp\n",
    "plot_distributions(cluster0, neurotypical, 'rs11787216_T', 'Autistic Cluster 0')"
   ]
  },
  {
   "cell_type": "code",
   "execution_count": null,
   "id": "83f52a03-76bf-4c2b-8cef-7cd91dcbd703",
   "metadata": {},
   "outputs": [],
   "source": [
    "# ignore autistic clusters 0 and 5, focus on 3 vs neurotypical\n",
    "mask3 = (labels_CG != 0) & (labels_CG != 5)\n",
    "labels3 = labels_CG[mask3]\n",
    "matrix3 = all_matrix_CG[mask3]\n",
    "labels3[labels3 != 3] = 0\n",
    "labels3[labels3 == 3] = 1\n",
    "cluster3 = matrix3[labels3 == 1]\n",
    "shap_values_cluster3, shap_interaction_cluster3 = predict_autistic_cluster(matrix3, labels3)\n",
    "\n",
    "#which contributes most to cluster 3?\n",
    "shap.summary_plot(shap_values_cluster3[:,:,1], matrix3)"
   ]
  },
  {
   "cell_type": "code",
   "execution_count": null,
   "id": "f46e2fed-5a8e-472b-a5ce-df73a1989a1b",
   "metadata": {},
   "outputs": [],
   "source": [
    "# find which snps are sig diff between cluster 3 and all neurotypicals\n",
    "pval_df_cluster3 = compute_signif(cluster3, neurotypical)\n",
    "# plot the distributions of that snp\n",
    "plot_distributions(cluster3, neurotypical, 'rs112635299_T', 'Autistic Cluster 3')"
   ]
  },
  {
   "cell_type": "code",
   "execution_count": null,
   "id": "d1cb6b71-a266-4f74-a209-7d6d5bb0da02",
   "metadata": {},
   "outputs": [],
   "source": [
    "# ignore autistic clusters 0 and 3, focus on 5 vs neurotypical\n",
    "mask5 = (labels_CG != 0) & (labels_CG != 3)\n",
    "labels5 = labels_CG[mask5]\n",
    "matrix5 = all_matrix_CG[mask5]\n",
    "labels5[labels5 != 5] = 0\n",
    "labels5[labels5 == 5] = 1\n",
    "shap_values_cluster5, shap_interaction_cluster5 = predict_autistic_cluster(matrix5, labels5)\n",
    "cluster5 = matrix5[labels5 == 1]\n",
    "\n",
    "# which contributes most to cluster 5?\n",
    "shap.summary_plot(shap_values_cluster5[:,:,1], matrix5)"
   ]
  },
  {
   "cell_type": "code",
   "execution_count": null,
   "id": "7bf23aaf-c229-4883-8355-1eedeb5909c2",
   "metadata": {},
   "outputs": [],
   "source": [
    "# find which snps are sig diff between cluster5 and all neurotypical\n",
    "pval_df_cluster5 = compute_signif(cluster5, neurotypical)\n",
    "# plot the distribution of that snp\n",
    "plot_distributions(cluster5, neurotypical, 'rs11787216_T', 'Autistic Cluster 5')"
   ]
  }
 ],
 "metadata": {
  "kernelspec": {
   "display_name": "Python pycaret env",
   "language": "python",
   "name": "your_env_name"
  },
  "language_info": {
   "codemirror_mode": {
    "name": "ipython",
    "version": 3
   },
   "file_extension": ".py",
   "mimetype": "text/x-python",
   "name": "python",
   "nbconvert_exporter": "python",
   "pygments_lexer": "ipython3",
   "version": "3.9.19"
  }
 },
 "nbformat": 4,
 "nbformat_minor": 5
}
